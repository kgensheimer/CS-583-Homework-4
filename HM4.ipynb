{
  "nbformat": 4,
  "nbformat_minor": 0,
  "metadata": {
    "kernelspec": {
      "display_name": "Python 3",
      "language": "python",
      "name": "python3"
    },
    "language_info": {
      "codemirror_mode": {
        "name": "ipython",
        "version": 3
      },
      "file_extension": ".py",
      "mimetype": "text/x-python",
      "name": "python",
      "nbconvert_exporter": "python",
      "pygments_lexer": "ipython3",
      "version": "3.8.5"
    },
    "colab": {
      "name": "HM4.ipynb",
      "provenance": [],
      "collapsed_sections": []
    },
    "accelerator": "GPU"
  },
  "cells": [
    {
      "cell_type": "markdown",
      "metadata": {
        "id": "c1JP9N-1s9d-"
      },
      "source": [
        "# Home 4: Build a CNN for image recognition.\n",
        "\n",
        "### Name: Kyle Gensheimer\n"
      ]
    },
    {
      "cell_type": "markdown",
      "metadata": {
        "id": "24GiupBTs9eA"
      },
      "source": [
        "## 0. You will do the following:\n",
        "\n",
        "1. Read, complete, and run the code.\n",
        "\n",
        "2. **Make substantial improvements** to maximize the accurcy.\n",
        "    \n",
        "3. Convert the .IPYNB file to .HTML file.\n",
        "\n",
        "    * The HTML file must contain the code and the output after execution.\n",
        "    \n",
        "    * Missing **the output after execution** will not be graded.\n",
        "    \n",
        "4. Upload this .HTML file to your Google Drive, Dropbox, or Github repo. (If you submit the file to Google Drive or Dropbox, you must make the file \"open-access\". The delay caused by \"deny of access\" may result in late penalty.)\n",
        "\n",
        "4. Submit the link to this .HTML file to Canvas.\n",
        "\n",
        "    * Example: https://github.com/wangshusen/CS583-2020S/blob/master/homework/HM4/HM4.html\n",
        "\n",
        "\n",
        "## Requirements:\n",
        "\n",
        "1. You can use whatever CNN architecture, including VGG, Inception, and ResNet. However, you must build the networks layer by layer. You must NOT import the archetectures from ```keras.applications```.\n",
        "\n",
        "2. Make sure ```BatchNormalization``` is between a ```Conv```/```Dense``` layer and an ```activation``` layer.\n",
        "\n",
        "3. If you want to regularize a ```Conv```/```Dense``` layer, you should place a ```Dropout``` layer **before** the ```Conv```/```Dense``` layer.\n",
        "\n",
        "4. An accuracy above 70% is considered reasonable. An accuracy above 80% is considered good. Without data augmentation, achieving 80% accuracy is difficult.\n",
        "\n",
        "\n",
        "## Google Colab\n",
        "\n",
        "- If you do not have GPU, the training of a CNN can be slow. Google Colab is a good option.\n",
        "\n",
        "- Keep in mind that you must download it as an IPYNB file and then use IPython Notebook to convert it to HTML.\n",
        "\n",
        "- Also keep in mind that the IPYNB and HTML files must contain the outputs. (Otherwise, the instructor will not be able to know the correctness and performance.) Do the followings to keep the outputs.\n",
        "\n",
        "- In Colab, go to ```Runtime``` --> ```Change runtime type``` --> Do NOT check ```Omit code cell output when saving this notebook```. In this way, the downloaded IPYNB file contains the outputs."
      ]
    },
    {
      "cell_type": "markdown",
      "metadata": {
        "id": "F7OLB25gs9eB"
      },
      "source": [
        "## 1. Data preparation"
      ]
    },
    {
      "cell_type": "markdown",
      "metadata": {
        "id": "7SRDTWDds9eB"
      },
      "source": [
        "### 1.1. Load data\n"
      ]
    },
    {
      "cell_type": "code",
      "metadata": {
        "colab": {
          "base_uri": "https://localhost:8080/"
        },
        "id": "Fm8ks6O5s9eC",
        "outputId": "29e3cfd8-2744-4827-d985-c622c864fee2"
      },
      "source": [
        "from keras.datasets import cifar10\n",
        "import numpy\n",
        "\n",
        "(x_train, y_train), (x_test, y_test) = cifar10.load_data()\n",
        "\n",
        "# Scale pixels values to 0-1\n",
        "x_train = x_train.astype('float32') \n",
        "x_test = x_test.astype('float32') \n",
        "x_train = x_train / 255\n",
        "x_test = x_test / 255\n",
        "\n",
        "print('shape of x_train: ' + str(x_train.shape))\n",
        "print('shape of y_train: ' + str(y_train.shape))\n",
        "print('shape of x_test: ' + str(x_test.shape))\n",
        "print('shape of y_test: ' + str(y_test.shape))\n",
        "print('number of classes: ' + str(numpy.max(y_train) - numpy.min(y_train) + 1))"
      ],
      "execution_count": 59,
      "outputs": [
        {
          "output_type": "stream",
          "text": [
            "shape of x_train: (50000, 32, 32, 3)\n",
            "shape of y_train: (50000, 1)\n",
            "shape of x_test: (10000, 32, 32, 3)\n",
            "shape of y_test: (10000, 1)\n",
            "number of classes: 10\n"
          ],
          "name": "stdout"
        }
      ]
    },
    {
      "cell_type": "markdown",
      "metadata": {
        "id": "2cLi4o5es9eC"
      },
      "source": [
        "### 1.2. One-hot encode the labels\n",
        "\n",
        "In the input, a label is a scalar in $\\{0, 1, \\cdots , 9\\}$. One-hot encode transform such a scalar to a $10$-dim vector. E.g., a scalar ```y_train[j]=3``` is transformed to the vector ```y_train_vec[j]=[0, 0, 0, 1, 0, 0, 0, 0, 0, 0]```.\n",
        "\n",
        "1. Define a function ```to_one_hot``` that transforms an $n\\times 1$ array to a $n\\times 10$ matrix.\n",
        "\n",
        "2. Apply the function to ```y_train``` and ```y_test```."
      ]
    },
    {
      "cell_type": "code",
      "metadata": {
        "colab": {
          "base_uri": "https://localhost:8080/"
        },
        "id": "9EUndtTgs9eC",
        "outputId": "b2628f96-4554-4e04-eac9-2ea10258dbdc"
      },
      "source": [
        "def to_one_hot(y, num_class=10):\n",
        "    results = numpy.zeros((len(y), num_class))\n",
        "    for i, label in enumerate(y):\n",
        "      results[i, label] = 1\n",
        "    return results\n",
        "\n",
        "y_train_vec = to_one_hot(y_train)\n",
        "y_test_vec = to_one_hot(y_test)\n",
        "\n",
        "print('Shape of y_train_vec: ' + str(y_train_vec.shape))\n",
        "print('Shape of y_test_vec: ' + str(y_test_vec.shape))\n",
        "\n",
        "print(y_train[0])\n",
        "print(y_train_vec[0])\n",
        "print(x_test[0][0][0])"
      ],
      "execution_count": 60,
      "outputs": [
        {
          "output_type": "stream",
          "text": [
            "Shape of y_train_vec: (50000, 10)\n",
            "Shape of y_test_vec: (10000, 10)\n",
            "[6]\n",
            "[0. 0. 0. 0. 0. 0. 1. 0. 0. 0.]\n",
            "[0.61960787 0.4392157  0.19215687]\n"
          ],
          "name": "stdout"
        }
      ]
    },
    {
      "cell_type": "markdown",
      "metadata": {
        "id": "-NO76M0vs9eD"
      },
      "source": [
        "#### Remark: the outputs should be\n",
        "* Shape of y_train_vec: (50000, 10)\n",
        "* Shape of y_test_vec: (10000, 10)\n",
        "* [6]\n",
        "* [0. 0. 0. 0. 0. 0. 1. 0. 0. 0.]"
      ]
    },
    {
      "cell_type": "markdown",
      "metadata": {
        "id": "Ni01bAUds9eD"
      },
      "source": [
        "### 1.3. Randomly partition the training set to training and validation sets\n",
        "\n",
        "Randomly partition the 50K training samples to 2 sets:\n",
        "* a training set containing 40K samples\n",
        "* a validation set containing 10K samples\n"
      ]
    },
    {
      "cell_type": "code",
      "metadata": {
        "id": "1gjoqaoKs9eD",
        "colab": {
          "base_uri": "https://localhost:8080/"
        },
        "outputId": "9d2862ca-7457-4b64-afec-74c2ec8199a8"
      },
      "source": [
        "rand_indices = numpy.random.permutation(50000)\n",
        "train_indices = rand_indices[0:40000]\n",
        "valid_indices = rand_indices[40000:50000]\n",
        "\n",
        "x_val = x_train[valid_indices, :]\n",
        "y_val = y_train_vec[valid_indices, :]\n",
        "\n",
        "x_tr = x_train[train_indices, :]\n",
        "y_tr = y_train_vec[train_indices, :]\n",
        "\n",
        "print('Shape of x_tr: ' + str(x_tr.shape))\n",
        "print('Shape of y_tr: ' + str(y_tr.shape))\n",
        "print('Shape of x_val: ' + str(x_val.shape))\n",
        "print('Shape of y_val: ' + str(y_val.shape))"
      ],
      "execution_count": 61,
      "outputs": [
        {
          "output_type": "stream",
          "text": [
            "Shape of x_tr: (40000, 32, 32, 3)\n",
            "Shape of y_tr: (40000, 10)\n",
            "Shape of x_val: (10000, 32, 32, 3)\n",
            "Shape of y_val: (10000, 10)\n"
          ],
          "name": "stdout"
        }
      ]
    },
    {
      "cell_type": "markdown",
      "metadata": {
        "id": "BEQbRiz4s9eE"
      },
      "source": [
        "## 2. Build a CNN and tune its hyper-parameters\n",
        "\n",
        "1. Build a convolutional neural network model\n",
        "2. Use the validation data to tune the hyper-parameters (e.g., network structure, and optimization algorithm)\n",
        "    * Do NOT use test data for hyper-parameter tuning!!!\n",
        "3. Try to achieve a validation accuracy as high as possible."
      ]
    },
    {
      "cell_type": "markdown",
      "metadata": {
        "id": "i_MMUGtAs9eE"
      },
      "source": [
        "### Remark: \n",
        "\n",
        "The following CNN is just an example. You are supposed to make **substantial improvements** such as:\n",
        "* Add more layers.\n",
        "* Use regularizations, e.g., dropout.\n",
        "* Use batch normalization."
      ]
    },
    {
      "cell_type": "code",
      "metadata": {
        "id": "p2Pf7hQ8s9eE",
        "colab": {
          "base_uri": "https://localhost:8080/"
        },
        "outputId": "7ffd74f7-0eae-45b4-e7e1-6be186bfcbaf"
      },
      "source": [
        "from keras.layers import (\n",
        "    Conv2D,\n",
        "    MaxPooling2D,\n",
        "    Flatten,\n",
        "    Dense,\n",
        "    Dropout,\n",
        "    BatchNormalization,\n",
        "    Activation\n",
        "  )\n",
        "\n",
        "from keras.models import Sequential\n",
        "\n",
        "# data_format defaults to channels_last\n",
        "\n",
        "model = Sequential()\n",
        "model.add(Conv2D(32, (3, 3), padding='same', input_shape=(32, 32, 3)))\n",
        "model.add(BatchNormalization())\n",
        "model.add(Activation('relu'))\n",
        "model.add(Conv2D(32, (3, 3), padding='same'))\n",
        "model.add(BatchNormalization())\n",
        "model.add(Activation('relu'))\n",
        "model.add(MaxPooling2D((2, 2)))\n",
        "\n",
        "# model.add(Conv2D(32, (3, 3), padding='same'))\n",
        "# model.add(BatchNormalization())\n",
        "# model.add(Activation('relu'))\n",
        "# model.add(Conv2D(32, (3, 3), padding='same'))\n",
        "# model.add(BatchNormalization())\n",
        "# model.add(Activation('relu'))\n",
        "# model.add(MaxPooling2D((2, 2)))\n",
        "\n",
        "model.add(Conv2D(64, (3, 3), padding='same'))\n",
        "model.add(BatchNormalization())\n",
        "model.add(Activation('relu'))\n",
        "model.add(Conv2D(64, (3, 3), padding='same'))\n",
        "model.add(BatchNormalization())\n",
        "model.add(Activation('relu'))\n",
        "model.add(MaxPooling2D((2, 2)))\n",
        "\n",
        "model.add(Conv2D(128, (3, 3), padding='same'))\n",
        "model.add(BatchNormalization())\n",
        "model.add(Activation('relu'))\n",
        "model.add(Conv2D(128, (3, 3), padding='same'))\n",
        "model.add(BatchNormalization())\n",
        "model.add(Activation('relu'))\n",
        "model.add(MaxPooling2D((2, 2)))\n",
        "\n",
        "model.add(Flatten())\n",
        "model.add(Dropout(0.5))\n",
        "model.add(Dense(128))\n",
        "model.add(BatchNormalization())\n",
        "model.add(Activation('relu'))\n",
        "model.add(Dense(10, activation='softmax'))\n",
        "\n",
        "model.summary()"
      ],
      "execution_count": 62,
      "outputs": [
        {
          "output_type": "stream",
          "text": [
            "Model: \"sequential_8\"\n",
            "_________________________________________________________________\n",
            "Layer (type)                 Output Shape              Param #   \n",
            "=================================================================\n",
            "conv2d_48 (Conv2D)           (None, 32, 32, 32)        896       \n",
            "_________________________________________________________________\n",
            "batch_normalization_56 (Batc (None, 32, 32, 32)        128       \n",
            "_________________________________________________________________\n",
            "activation_56 (Activation)   (None, 32, 32, 32)        0         \n",
            "_________________________________________________________________\n",
            "conv2d_49 (Conv2D)           (None, 32, 32, 32)        9248      \n",
            "_________________________________________________________________\n",
            "batch_normalization_57 (Batc (None, 32, 32, 32)        128       \n",
            "_________________________________________________________________\n",
            "activation_57 (Activation)   (None, 32, 32, 32)        0         \n",
            "_________________________________________________________________\n",
            "max_pooling2d_24 (MaxPooling (None, 16, 16, 32)        0         \n",
            "_________________________________________________________________\n",
            "conv2d_50 (Conv2D)           (None, 16, 16, 64)        18496     \n",
            "_________________________________________________________________\n",
            "batch_normalization_58 (Batc (None, 16, 16, 64)        256       \n",
            "_________________________________________________________________\n",
            "activation_58 (Activation)   (None, 16, 16, 64)        0         \n",
            "_________________________________________________________________\n",
            "conv2d_51 (Conv2D)           (None, 16, 16, 64)        36928     \n",
            "_________________________________________________________________\n",
            "batch_normalization_59 (Batc (None, 16, 16, 64)        256       \n",
            "_________________________________________________________________\n",
            "activation_59 (Activation)   (None, 16, 16, 64)        0         \n",
            "_________________________________________________________________\n",
            "max_pooling2d_25 (MaxPooling (None, 8, 8, 64)          0         \n",
            "_________________________________________________________________\n",
            "conv2d_52 (Conv2D)           (None, 8, 8, 128)         73856     \n",
            "_________________________________________________________________\n",
            "batch_normalization_60 (Batc (None, 8, 8, 128)         512       \n",
            "_________________________________________________________________\n",
            "activation_60 (Activation)   (None, 8, 8, 128)         0         \n",
            "_________________________________________________________________\n",
            "conv2d_53 (Conv2D)           (None, 8, 8, 128)         147584    \n",
            "_________________________________________________________________\n",
            "batch_normalization_61 (Batc (None, 8, 8, 128)         512       \n",
            "_________________________________________________________________\n",
            "activation_61 (Activation)   (None, 8, 8, 128)         0         \n",
            "_________________________________________________________________\n",
            "max_pooling2d_26 (MaxPooling (None, 4, 4, 128)         0         \n",
            "_________________________________________________________________\n",
            "flatten_8 (Flatten)          (None, 2048)              0         \n",
            "_________________________________________________________________\n",
            "dropout_8 (Dropout)          (None, 2048)              0         \n",
            "_________________________________________________________________\n",
            "dense_16 (Dense)             (None, 128)               262272    \n",
            "_________________________________________________________________\n",
            "batch_normalization_62 (Batc (None, 128)               512       \n",
            "_________________________________________________________________\n",
            "activation_62 (Activation)   (None, 128)               0         \n",
            "_________________________________________________________________\n",
            "dense_17 (Dense)             (None, 10)                1290      \n",
            "=================================================================\n",
            "Total params: 552,874\n",
            "Trainable params: 551,722\n",
            "Non-trainable params: 1,152\n",
            "_________________________________________________________________\n"
          ],
          "name": "stdout"
        }
      ]
    },
    {
      "cell_type": "code",
      "metadata": {
        "id": "yDP5nzo3s9eE"
      },
      "source": [
        "from keras import optimizers\n",
        "from keras.preprocessing.image import ImageDataGenerator\n",
        "\n",
        "# learning_rate = 1E-5 # to be tuned!\n",
        "learning_rate = 0.001 # to be tuned!\n",
        "\n",
        "train_datagen = ImageDataGenerator(\n",
        "    rotation_range=25,\n",
        "    width_shift_range=0.1,\n",
        "    height_shift_range=0.1,\n",
        "    shear_range=0.1,\n",
        "    horizontal_flip=True,\n",
        "    # zca_whitening=True\n",
        ")\n",
        "\n",
        "train_generator = train_datagen.flow(x_tr, y_tr, batch_size=32)\n",
        "\n",
        "model.compile(loss='categorical_crossentropy',\n",
        "              optimizer=optimizers.RMSprop(lr=learning_rate),\n",
        "              metrics=['acc'])"
      ],
      "execution_count": 63,
      "outputs": []
    },
    {
      "cell_type": "code",
      "metadata": {
        "id": "9UR9vLFQs9eF",
        "colab": {
          "base_uri": "https://localhost:8080/"
        },
        "outputId": "88c0978e-738a-4ff1-9c93-dcb194c5ba01"
      },
      "source": [
        "# history = model.fit(x_tr, y_tr, batch_size=32, epochs=10, validation_data=(x_val, y_val))\n",
        "history = model.fit_generator(train_generator, epochs=10, validation_data=(x_val, y_val))"
      ],
      "execution_count": 64,
      "outputs": [
        {
          "output_type": "stream",
          "text": [
            "/usr/local/lib/python3.7/dist-packages/tensorflow/python/keras/engine/training.py:1844: UserWarning: `Model.fit_generator` is deprecated and will be removed in a future version. Please use `Model.fit`, which supports generators.\n",
            "  warnings.warn('`Model.fit_generator` is deprecated and '\n"
          ],
          "name": "stderr"
        },
        {
          "output_type": "stream",
          "text": [
            "Epoch 1/10\n",
            "1250/1250 [==============================] - 28s 21ms/step - loss: 1.6884 - acc: 0.3867 - val_loss: 1.3467 - val_acc: 0.5459\n",
            "Epoch 2/10\n",
            "1250/1250 [==============================] - 26s 21ms/step - loss: 1.1426 - acc: 0.5910 - val_loss: 1.1404 - val_acc: 0.6073\n",
            "Epoch 3/10\n",
            "1250/1250 [==============================] - 26s 21ms/step - loss: 1.0045 - acc: 0.6466 - val_loss: 1.3050 - val_acc: 0.6013\n",
            "Epoch 4/10\n",
            "1250/1250 [==============================] - 26s 21ms/step - loss: 0.9145 - acc: 0.6826 - val_loss: 1.2575 - val_acc: 0.6370\n",
            "Epoch 5/10\n",
            "1250/1250 [==============================] - 26s 21ms/step - loss: 0.8566 - acc: 0.7046 - val_loss: 0.8162 - val_acc: 0.7341\n",
            "Epoch 6/10\n",
            "1250/1250 [==============================] - 26s 21ms/step - loss: 0.8064 - acc: 0.7177 - val_loss: 0.7106 - val_acc: 0.7572\n",
            "Epoch 7/10\n",
            "1250/1250 [==============================] - 26s 21ms/step - loss: 0.7642 - acc: 0.7370 - val_loss: 0.8804 - val_acc: 0.7289\n",
            "Epoch 8/10\n",
            "1250/1250 [==============================] - 26s 21ms/step - loss: 0.7357 - acc: 0.7504 - val_loss: 0.7089 - val_acc: 0.7570\n",
            "Epoch 9/10\n",
            "1250/1250 [==============================] - 26s 21ms/step - loss: 0.7221 - acc: 0.7526 - val_loss: 0.7584 - val_acc: 0.7537\n",
            "Epoch 10/10\n",
            "1250/1250 [==============================] - 26s 21ms/step - loss: 0.6868 - acc: 0.7672 - val_loss: 0.7705 - val_acc: 0.7552\n"
          ],
          "name": "stdout"
        }
      ]
    },
    {
      "cell_type": "code",
      "metadata": {
        "id": "U97Vxo-ws9eF",
        "colab": {
          "base_uri": "https://localhost:8080/",
          "height": 594
        },
        "outputId": "2d38e579-8092-4c4d-9acb-24d282bb125b"
      },
      "source": [
        "import matplotlib.pyplot as plt\n",
        "%matplotlib inline\n",
        "\n",
        "acc = history.history['acc']\n",
        "val_acc = history.history['val_acc']\n",
        "\n",
        "epochs = range(len(acc))\n",
        "\n",
        "plt.plot(epochs, acc, 'bo', label='Training acc')\n",
        "plt.plot(epochs, val_acc, 'r', label='Validation acc')\n",
        "plt.xlabel('Epochs')\n",
        "plt.ylabel('Accuracy')\n",
        "plt.legend()\n",
        "plt.show()\n",
        "\n",
        "plt.imshow(x_tr[0,...])\n",
        "plt.title(y_tr[0])"
      ],
      "execution_count": 65,
      "outputs": [
        {
          "output_type": "display_data",
          "data": {
            "image/png": "[encoded data removed]",
            "text/plain": [
              "<Figure size 432x288 with 1 Axes>"
            ]
          },
          "metadata": {
            "tags": [],
            "needs_background": "light"
          }
        },
        {
          "output_type": "stream",
          "text": [
            "/usr/local/lib/python3.7/dist-packages/matplotlib/text.py:1165: FutureWarning: elementwise comparison failed; returning scalar instead, but in the future will perform elementwise comparison\n",
            "  if s != self._text:\n"
          ],
          "name": "stderr"
        },
        {
          "output_type": "execute_result",
          "data": {
            "text/plain": [
              "Text(0.5, 1.0, '[0. 0. 0. 0. 1. 0. 0. 0. 0. 0.]')"
            ]
          },
          "metadata": {
            "tags": []
          },
          "execution_count": 65
        },
        {
          "output_type": "display_data",
          "data": {
            "image/png": "[encoded data removed]",
            "text/plain": [
              "<Figure size 432x288 with 1 Axes>"
            ]
          },
          "metadata": {
            "tags": [],
            "needs_background": "light"
          }
        }
      ]
    },
    {
      "cell_type": "markdown",
      "metadata": {
        "id": "JuGCwOwVs9eG"
      },
      "source": [
        "## 3. Train (again) and evaluate the model\n",
        "\n",
        "- To this end, you have found the \"best\" hyper-parameters. \n",
        "- Now, fix the hyper-parameters and train the network on the entire training set (all the 50K training samples)\n",
        "- Evaluate your model on the test set."
      ]
    },
    {
      "cell_type": "markdown",
      "metadata": {
        "id": "KSwwo7MBs9eG"
      },
      "source": [
        "### 3.1. Train the model on the entire training set\n",
        "\n",
        "Why? Previously, you used 40K samples for training; you wasted 10K samples for the sake of hyper-parameter tuning. Now you already know the hyper-parameters, so why not using all the 50K samples for training?"
      ]
    },
    {
      "cell_type": "code",
      "metadata": {
        "id": "jLV3rDkgs9eH"
      },
      "source": [
        "# <Compile your model again (using the same hyper-parameters)>\n",
        "learning_rate = 0.001 # to be tuned!\n",
        "model.compile(loss='categorical_crossentropy',\n",
        "              optimizer=optimizers.RMSprop(lr=learning_rate),\n",
        "              metrics=['acc'])"
      ],
      "execution_count": 66,
      "outputs": []
    },
    {
      "cell_type": "code",
      "metadata": {
        "id": "8SGMbZY_s9eH",
        "colab": {
          "base_uri": "https://localhost:8080/"
        },
        "outputId": "29550192-61c2-481b-d2b7-5f0ba90dbdc5"
      },
      "source": [
        "# <Train your model on the entire training set (50K samples)>\n",
        "# <Use (x_train, y_train_vec) instead of (x_tr, y_tr)>\n",
        "# <Do NOT use the validation_data option (because now you do not have validation data)>\n",
        "test_datagen = ImageDataGenerator(\n",
        "    rotation_range=25,\n",
        "    width_shift_range=0.1,\n",
        "    height_shift_range=0.1,\n",
        "    shear_range=0.1,\n",
        "    horizontal_flip=True,\n",
        "    # zca_whitening=True\n",
        ")\n",
        "test_generator = test_datagen.flow(x_train, y_train_vec, batch_size=32)\n",
        "history = model.fit_generator(test_generator, epochs=50)"
      ],
      "execution_count": 67,
      "outputs": [
        {
          "output_type": "stream",
          "text": [
            "/usr/local/lib/python3.7/dist-packages/tensorflow/python/keras/engine/training.py:1844: UserWarning: `Model.fit_generator` is deprecated and will be removed in a future version. Please use `Model.fit`, which supports generators.\n",
            "  warnings.warn('`Model.fit_generator` is deprecated and '\n"
          ],
          "name": "stderr"
        },
        {
          "output_type": "stream",
          "text": [
            "Epoch 1/50\n",
            "1563/1563 [==============================] - 32s 20ms/step - loss: 0.6883 - acc: 0.7675\n",
            "Epoch 2/50\n",
            "1563/1563 [==============================] - 31s 20ms/step - loss: 0.6719 - acc: 0.7734\n",
            "Epoch 3/50\n",
            "1563/1563 [==============================] - 31s 20ms/step - loss: 0.6481 - acc: 0.7800\n",
            "Epoch 4/50\n",
            "1563/1563 [==============================] - 31s 20ms/step - loss: 0.6256 - acc: 0.7878\n",
            "Epoch 5/50\n",
            "1563/1563 [==============================] - 31s 20ms/step - loss: 0.6083 - acc: 0.7926\n",
            "Epoch 6/50\n",
            "1563/1563 [==============================] - 31s 20ms/step - loss: 0.5841 - acc: 0.8014\n",
            "Epoch 7/50\n",
            "1563/1563 [==============================] - 31s 20ms/step - loss: 0.5875 - acc: 0.8019\n",
            "Epoch 8/50\n",
            "1563/1563 [==============================] - 31s 20ms/step - loss: 0.5675 - acc: 0.8091\n",
            "Epoch 9/50\n",
            "1563/1563 [==============================] - 31s 20ms/step - loss: 0.5484 - acc: 0.8121\n",
            "Epoch 10/50\n",
            "1563/1563 [==============================] - 31s 20ms/step - loss: 0.5471 - acc: 0.8170\n",
            "Epoch 11/50\n",
            "1563/1563 [==============================] - 31s 20ms/step - loss: 0.5322 - acc: 0.8182\n",
            "Epoch 12/50\n",
            "1563/1563 [==============================] - 31s 20ms/step - loss: 0.5294 - acc: 0.8206\n",
            "Epoch 13/50\n",
            "1563/1563 [==============================] - 31s 20ms/step - loss: 0.5259 - acc: 0.8218\n",
            "Epoch 14/50\n",
            "1563/1563 [==============================] - 31s 20ms/step - loss: 0.5110 - acc: 0.8266\n",
            "Epoch 15/50\n",
            "1563/1563 [==============================] - 32s 20ms/step - loss: 0.4968 - acc: 0.8309\n",
            "Epoch 16/50\n",
            "1563/1563 [==============================] - 31s 20ms/step - loss: 0.4856 - acc: 0.8360\n",
            "Epoch 17/50\n",
            "1563/1563 [==============================] - 31s 20ms/step - loss: 0.4860 - acc: 0.8342\n",
            "Epoch 18/50\n",
            "1563/1563 [==============================] - 31s 20ms/step - loss: 0.4892 - acc: 0.8350\n",
            "Epoch 19/50\n",
            "1563/1563 [==============================] - 31s 20ms/step - loss: 0.4744 - acc: 0.8401\n",
            "Epoch 20/50\n",
            "1563/1563 [==============================] - 31s 20ms/step - loss: 0.4743 - acc: 0.8401\n",
            "Epoch 21/50\n",
            "1563/1563 [==============================] - 32s 20ms/step - loss: 0.4668 - acc: 0.8414\n",
            "Epoch 22/50\n",
            "1563/1563 [==============================] - 31s 20ms/step - loss: 0.4700 - acc: 0.8410\n",
            "Epoch 23/50\n",
            "1563/1563 [==============================] - 32s 20ms/step - loss: 0.4583 - acc: 0.8429\n",
            "Epoch 24/50\n",
            "1563/1563 [==============================] - 31s 20ms/step - loss: 0.4521 - acc: 0.8478\n",
            "Epoch 25/50\n",
            "1563/1563 [==============================] - 32s 20ms/step - loss: 0.4463 - acc: 0.8491\n",
            "Epoch 26/50\n",
            "1563/1563 [==============================] - 31s 20ms/step - loss: 0.4442 - acc: 0.8500\n",
            "Epoch 27/50\n",
            "1563/1563 [==============================] - 31s 20ms/step - loss: 0.4389 - acc: 0.8517\n",
            "Epoch 28/50\n",
            "1563/1563 [==============================] - 31s 20ms/step - loss: 0.4322 - acc: 0.8526\n",
            "Epoch 29/50\n",
            "1563/1563 [==============================] - 32s 20ms/step - loss: 0.4325 - acc: 0.8550\n",
            "Epoch 30/50\n",
            "1563/1563 [==============================] - 31s 20ms/step - loss: 0.4292 - acc: 0.8541\n",
            "Epoch 31/50\n",
            "1563/1563 [==============================] - 32s 21ms/step - loss: 0.4240 - acc: 0.8544\n",
            "Epoch 32/50\n",
            "1563/1563 [==============================] - 31s 20ms/step - loss: 0.4299 - acc: 0.8546\n",
            "Epoch 33/50\n",
            "1563/1563 [==============================] - 32s 20ms/step - loss: 0.4169 - acc: 0.8564\n",
            "Epoch 34/50\n",
            "1563/1563 [==============================] - 32s 20ms/step - loss: 0.4160 - acc: 0.8597\n",
            "Epoch 35/50\n",
            "1563/1563 [==============================] - 32s 20ms/step - loss: 0.4136 - acc: 0.8585\n",
            "Epoch 36/50\n",
            "1563/1563 [==============================] - 31s 20ms/step - loss: 0.4082 - acc: 0.8607\n",
            "Epoch 37/50\n",
            "1563/1563 [==============================] - 31s 20ms/step - loss: 0.4129 - acc: 0.8601\n",
            "Epoch 38/50\n",
            "1563/1563 [==============================] - 31s 20ms/step - loss: 0.4026 - acc: 0.8628\n",
            "Epoch 39/50\n",
            "1563/1563 [==============================] - 32s 20ms/step - loss: 0.4098 - acc: 0.8583\n",
            "Epoch 40/50\n",
            "1563/1563 [==============================] - 32s 21ms/step - loss: 0.4032 - acc: 0.8636\n",
            "Epoch 41/50\n",
            "1563/1563 [==============================] - 32s 21ms/step - loss: 0.3950 - acc: 0.8642\n",
            "Epoch 42/50\n",
            "1563/1563 [==============================] - 32s 20ms/step - loss: 0.3941 - acc: 0.8664\n",
            "Epoch 43/50\n",
            "1563/1563 [==============================] - 32s 20ms/step - loss: 0.3971 - acc: 0.8640\n",
            "Epoch 44/50\n",
            "1563/1563 [==============================] - 32s 21ms/step - loss: 0.3917 - acc: 0.8656\n",
            "Epoch 45/50\n",
            "1563/1563 [==============================] - 32s 20ms/step - loss: 0.3805 - acc: 0.8707\n",
            "Epoch 46/50\n",
            "1563/1563 [==============================] - 33s 21ms/step - loss: 0.3902 - acc: 0.8683\n",
            "Epoch 47/50\n",
            "1563/1563 [==============================] - 32s 21ms/step - loss: 0.3865 - acc: 0.8686\n",
            "Epoch 48/50\n",
            "1563/1563 [==============================] - 32s 21ms/step - loss: 0.3801 - acc: 0.8696\n",
            "Epoch 49/50\n",
            "1563/1563 [==============================] - 32s 21ms/step - loss: 0.3815 - acc: 0.8682\n",
            "Epoch 50/50\n",
            "1563/1563 [==============================] - 32s 21ms/step - loss: 0.3712 - acc: 0.8727\n"
          ],
          "name": "stdout"
        }
      ]
    },
    {
      "cell_type": "markdown",
      "metadata": {
        "id": "tYGlCnfEs9eH"
      },
      "source": [
        "### 3.2. Evaluate the model on the test set\n",
        "\n",
        "Do NOT used the test set until now. Make sure that your model parameters and hyper-parameters are independent of the test set."
      ]
    },
    {
      "cell_type": "code",
      "metadata": {
        "id": "Fyp5aoBys9eH",
        "colab": {
          "base_uri": "https://localhost:8080/"
        },
        "outputId": "21e4f3e7-d2ef-4e02-a312-d486e444664a"
      },
      "source": [
        "loss_and_acc = model.evaluate(x_test, y_test_vec)\n",
        "print('loss = ' + str(loss_and_acc[0]))\n",
        "print('accuracy = ' + str(loss_and_acc[1]))"
      ],
      "execution_count": 68,
      "outputs": [
        {
          "output_type": "stream",
          "text": [
            "313/313 [==============================] - 1s 4ms/step - loss: 0.4130 - acc: 0.8687\n",
            "loss = 0.41296011209487915\n",
            "accuracy = 0.8687000274658203\n"
          ],
          "name": "stdout"
        }
      ]
    },
    {
      "cell_type": "code",
      "metadata": {
        "id": "outbGaC4s9eI"
      },
      "source": [
        ""
      ],
      "execution_count": null,
      "outputs": []
    }
  ]
}