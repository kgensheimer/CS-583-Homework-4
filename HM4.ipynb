{
  "nbformat": 4,
  "nbformat_minor": 0,
  "metadata": {
    "kernelspec": {
      "display_name": "Python 3",
      "language": "python",
      "name": "python3"
    },
    "language_info": {
      "codemirror_mode": {
        "name": "ipython",
        "version": 3
      },
      "file_extension": ".py",
      "mimetype": "text/x-python",
      "name": "python",
      "nbconvert_exporter": "python",
      "pygments_lexer": "ipython3",
      "version": "3.8.5"
    },
    "colab": {
      "name": "HM4.ipynb",
      "provenance": [],
      "collapsed_sections": []
    },
    "accelerator": "GPU"
  },
  "cells": [
    {
      "cell_type": "markdown",
      "metadata": {
        "id": "c1JP9N-1s9d-"
      },
      "source": [
        "# Home 4: Build a CNN for image recognition.\n",
        "\n",
        "### Name: Kyle Gensheimer\n"
      ]
    },
    {
      "cell_type": "markdown",
      "metadata": {
        "id": "24GiupBTs9eA"
      },
      "source": [
        "## 0. You will do the following:\n",
        "\n",
        "1. Read, complete, and run the code.\n",
        "\n",
        "2. **Make substantial improvements** to maximize the accurcy.\n",
        "    \n",
        "3. Convert the .IPYNB file to .HTML file.\n",
        "\n",
        "    * The HTML file must contain the code and the output after execution.\n",
        "    \n",
        "    * Missing **the output after execution** will not be graded.\n",
        "    \n",
        "4. Upload this .HTML file to your Google Drive, Dropbox, or Github repo. (If you submit the file to Google Drive or Dropbox, you must make the file \"open-access\". The delay caused by \"deny of access\" may result in late penalty.)\n",
        "\n",
        "4. Submit the link to this .HTML file to Canvas.\n",
        "\n",
        "    * Example: https://github.com/wangshusen/CS583-2020S/blob/master/homework/HM4/HM4.html\n",
        "\n",
        "\n",
        "## Requirements:\n",
        "\n",
        "1. You can use whatever CNN architecture, including VGG, Inception, and ResNet. However, you must build the networks layer by layer. You must NOT import the archetectures from ```keras.applications```.\n",
        "\n",
        "2. Make sure ```BatchNormalization``` is between a ```Conv```/```Dense``` layer and an ```activation``` layer.\n",
        "\n",
        "3. If you want to regularize a ```Conv```/```Dense``` layer, you should place a ```Dropout``` layer **before** the ```Conv```/```Dense``` layer.\n",
        "\n",
        "4. An accuracy above 70% is considered reasonable. An accuracy above 80% is considered good. Without data augmentation, achieving 80% accuracy is difficult.\n",
        "\n",
        "\n",
        "## Google Colab\n",
        "\n",
        "- If you do not have GPU, the training of a CNN can be slow. Google Colab is a good option.\n",
        "\n",
        "- Keep in mind that you must download it as an IPYNB file and then use IPython Notebook to convert it to HTML.\n",
        "\n",
        "- Also keep in mind that the IPYNB and HTML files must contain the outputs. (Otherwise, the instructor will not be able to know the correctness and performance.) Do the followings to keep the outputs.\n",
        "\n",
        "- In Colab, go to ```Runtime``` --> ```Change runtime type``` --> Do NOT check ```Omit code cell output when saving this notebook```. In this way, the downloaded IPYNB file contains the outputs."
      ]
    },
    {
      "cell_type": "markdown",
      "metadata": {
        "id": "F7OLB25gs9eB"
      },
      "source": [
        "## 1. Data preparation"
      ]
    },
    {
      "cell_type": "markdown",
      "metadata": {
        "id": "7SRDTWDds9eB"
      },
      "source": [
        "### 1.1. Load data\n"
      ]
    },
    {
      "cell_type": "code",
      "metadata": {
        "colab": {
          "base_uri": "https://localhost:8080/"
        },
        "id": "Fm8ks6O5s9eC",
        "outputId": "429617f3-7ed4-4c14-c307-adddf470ab07"
      },
      "source": [
        "from keras.datasets import cifar10\n",
        "import numpy\n",
        "\n",
        "(x_train, y_train), (x_test, y_test) = cifar10.load_data()\n",
        "\n",
        "# Scale pixels values to 0-1\n",
        "x_train = x_train.astype('float32') \n",
        "x_test = x_test.astype('float32') \n",
        "x_train = x_train / 255\n",
        "x_test = x_test / 255\n",
        "\n",
        "print('shape of x_train: ' + str(x_train.shape))\n",
        "print('shape of y_train: ' + str(y_train.shape))\n",
        "print('shape of x_test: ' + str(x_test.shape))\n",
        "print('shape of y_test: ' + str(y_test.shape))\n",
        "print('number of classes: ' + str(numpy.max(y_train) - numpy.min(y_train) + 1))"
      ],
      "execution_count": 77,
      "outputs": [
        {
          "output_type": "stream",
          "text": [
            "shape of x_train: (50000, 32, 32, 3)\n",
            "shape of y_train: (50000, 1)\n",
            "shape of x_test: (10000, 32, 32, 3)\n",
            "shape of y_test: (10000, 1)\n",
            "number of classes: 10\n"
          ],
          "name": "stdout"
        }
      ]
    },
    {
      "cell_type": "markdown",
      "metadata": {
        "id": "2cLi4o5es9eC"
      },
      "source": [
        "### 1.2. One-hot encode the labels\n",
        "\n",
        "In the input, a label is a scalar in $\\{0, 1, \\cdots , 9\\}$. One-hot encode transform such a scalar to a $10$-dim vector. E.g., a scalar ```y_train[j]=3``` is transformed to the vector ```y_train_vec[j]=[0, 0, 0, 1, 0, 0, 0, 0, 0, 0]```.\n",
        "\n",
        "1. Define a function ```to_one_hot``` that transforms an $n\\times 1$ array to a $n\\times 10$ matrix.\n",
        "\n",
        "2. Apply the function to ```y_train``` and ```y_test```."
      ]
    },
    {
      "cell_type": "code",
      "metadata": {
        "colab": {
          "base_uri": "https://localhost:8080/"
        },
        "id": "9EUndtTgs9eC",
        "outputId": "783d274a-b9b9-4a29-dc0c-054146ba07bd"
      },
      "source": [
        "def to_one_hot(y, num_class=10):\n",
        "    results = numpy.zeros((len(y), num_class))\n",
        "    for i, label in enumerate(y):\n",
        "      results[i, label] = 1\n",
        "    return results\n",
        "\n",
        "y_train_vec = to_one_hot(y_train)\n",
        "y_test_vec = to_one_hot(y_test)\n",
        "\n",
        "print('Shape of y_train_vec: ' + str(y_train_vec.shape))\n",
        "print('Shape of y_test_vec: ' + str(y_test_vec.shape))\n",
        "\n",
        "print(y_train[0])\n",
        "print(y_train_vec[0])\n",
        "print(x_test[0][0][0])"
      ],
      "execution_count": 78,
      "outputs": [
        {
          "output_type": "stream",
          "text": [
            "Shape of y_train_vec: (50000, 10)\n",
            "Shape of y_test_vec: (10000, 10)\n",
            "[6]\n",
            "[0. 0. 0. 0. 0. 0. 1. 0. 0. 0.]\n",
            "[0.61960787 0.4392157  0.19215687]\n"
          ],
          "name": "stdout"
        }
      ]
    },
    {
      "cell_type": "markdown",
      "metadata": {
        "id": "-NO76M0vs9eD"
      },
      "source": [
        "#### Remark: the outputs should be\n",
        "* Shape of y_train_vec: (50000, 10)\n",
        "* Shape of y_test_vec: (10000, 10)\n",
        "* [6]\n",
        "* [0. 0. 0. 0. 0. 0. 1. 0. 0. 0.]"
      ]
    },
    {
      "cell_type": "markdown",
      "metadata": {
        "id": "Ni01bAUds9eD"
      },
      "source": [
        "### 1.3. Randomly partition the training set to training and validation sets\n",
        "\n",
        "Randomly partition the 50K training samples to 2 sets:\n",
        "* a training set containing 40K samples\n",
        "* a validation set containing 10K samples\n"
      ]
    },
    {
      "cell_type": "code",
      "metadata": {
        "id": "1gjoqaoKs9eD",
        "colab": {
          "base_uri": "https://localhost:8080/"
        },
        "outputId": "9dec4b3f-bc61-4ad0-90a8-2f691f54a58d"
      },
      "source": [
        "rand_indices = numpy.random.permutation(50000)\n",
        "train_indices = rand_indices[0:40000]\n",
        "valid_indices = rand_indices[40000:50000]\n",
        "\n",
        "x_val = x_train[valid_indices, :]\n",
        "y_val = y_train_vec[valid_indices, :]\n",
        "\n",
        "x_tr = x_train[train_indices, :]\n",
        "y_tr = y_train_vec[train_indices, :]\n",
        "\n",
        "print('Shape of x_tr: ' + str(x_tr.shape))\n",
        "print('Shape of y_tr: ' + str(y_tr.shape))\n",
        "print('Shape of x_val: ' + str(x_val.shape))\n",
        "print('Shape of y_val: ' + str(y_val.shape))"
      ],
      "execution_count": 79,
      "outputs": [
        {
          "output_type": "stream",
          "text": [
            "Shape of x_tr: (40000, 32, 32, 3)\n",
            "Shape of y_tr: (40000, 10)\n",
            "Shape of x_val: (10000, 32, 32, 3)\n",
            "Shape of y_val: (10000, 10)\n"
          ],
          "name": "stdout"
        }
      ]
    },
    {
      "cell_type": "markdown",
      "metadata": {
        "id": "BEQbRiz4s9eE"
      },
      "source": [
        "## 2. Build a CNN and tune its hyper-parameters\n",
        "\n",
        "1. Build a convolutional neural network model\n",
        "2. Use the validation data to tune the hyper-parameters (e.g., network structure, and optimization algorithm)\n",
        "    * Do NOT use test data for hyper-parameter tuning!!!\n",
        "3. Try to achieve a validation accuracy as high as possible."
      ]
    },
    {
      "cell_type": "markdown",
      "metadata": {
        "id": "i_MMUGtAs9eE"
      },
      "source": [
        "### Remark: \n",
        "\n",
        "The following CNN is just an example. You are supposed to make **substantial improvements** such as:\n",
        "* Add more layers.\n",
        "* Use regularizations, e.g., dropout.\n",
        "* Use batch normalization."
      ]
    },
    {
      "cell_type": "code",
      "metadata": {
        "id": "p2Pf7hQ8s9eE",
        "colab": {
          "base_uri": "https://localhost:8080/"
        },
        "outputId": "3b67b01e-6c21-4127-c5bd-fbd10c0356d9"
      },
      "source": [
        "from keras.layers import (\n",
        "    Conv2D,\n",
        "    MaxPooling2D,\n",
        "    Flatten,\n",
        "    Dense,\n",
        "    Dropout,\n",
        "    BatchNormalization,\n",
        "    Activation\n",
        "  )\n",
        "\n",
        "from keras.models import Sequential\n",
        "\n",
        "# data_format defaults to channels_last\n",
        "\n",
        "model = Sequential()\n",
        "model.add(Conv2D(32, (3, 3), padding='same', input_shape=(32, 32, 3)))\n",
        "model.add(BatchNormalization())\n",
        "model.add(Activation('relu'))\n",
        "model.add(Conv2D(32, (3, 3), padding='same'))\n",
        "model.add(BatchNormalization())\n",
        "model.add(Activation('relu'))\n",
        "model.add(MaxPooling2D((2, 2)))\n",
        "\n",
        "# model.add(Conv2D(32, (3, 3), padding='same'))\n",
        "# model.add(BatchNormalization())\n",
        "# model.add(Activation('relu'))\n",
        "# model.add(Conv2D(32, (3, 3), padding='same'))\n",
        "# model.add(BatchNormalization())\n",
        "# model.add(Activation('relu'))\n",
        "# model.add(MaxPooling2D((2, 2)))\n",
        "\n",
        "model.add(Conv2D(64, (3, 3), padding='same'))\n",
        "model.add(BatchNormalization())\n",
        "model.add(Activation('relu'))\n",
        "model.add(Conv2D(64, (3, 3), padding='same'))\n",
        "model.add(BatchNormalization())\n",
        "model.add(Activation('relu'))\n",
        "model.add(MaxPooling2D((2, 2)))\n",
        "\n",
        "model.add(Conv2D(128, (3, 3), padding='same'))\n",
        "model.add(BatchNormalization())\n",
        "model.add(Activation('relu'))\n",
        "model.add(Conv2D(128, (3, 3), padding='same'))\n",
        "model.add(BatchNormalization())\n",
        "model.add(Activation('relu'))\n",
        "model.add(MaxPooling2D((2, 2)))\n",
        "\n",
        "model.add(Flatten())\n",
        "model.add(Dense(128))\n",
        "model.add(BatchNormalization())\n",
        "model.add(Activation('relu'))\n",
        "model.add(Dropout(0.5))\n",
        "model.add(Dense(10, activation='softmax'))\n",
        "\n",
        "model.summary()"
      ],
      "execution_count": 70,
      "outputs": [
        {
          "output_type": "stream",
          "text": [
            "Model: \"sequential_6\"\n",
            "_________________________________________________________________\n",
            "Layer (type)                 Output Shape              Param #   \n",
            "=================================================================\n",
            "conv2d_30 (Conv2D)           (None, 32, 32, 32)        896       \n",
            "_________________________________________________________________\n",
            "batch_normalization_36 (Batc (None, 32, 32, 32)        128       \n",
            "_________________________________________________________________\n",
            "activation_36 (Activation)   (None, 32, 32, 32)        0         \n",
            "_________________________________________________________________\n",
            "conv2d_31 (Conv2D)           (None, 32, 32, 32)        9248      \n",
            "_________________________________________________________________\n",
            "batch_normalization_37 (Batc (None, 32, 32, 32)        128       \n",
            "_________________________________________________________________\n",
            "activation_37 (Activation)   (None, 32, 32, 32)        0         \n",
            "_________________________________________________________________\n",
            "max_pooling2d_16 (MaxPooling (None, 16, 16, 32)        0         \n",
            "_________________________________________________________________\n",
            "conv2d_32 (Conv2D)           (None, 16, 16, 64)        18496     \n",
            "_________________________________________________________________\n",
            "batch_normalization_38 (Batc (None, 16, 16, 64)        256       \n",
            "_________________________________________________________________\n",
            "activation_38 (Activation)   (None, 16, 16, 64)        0         \n",
            "_________________________________________________________________\n",
            "conv2d_33 (Conv2D)           (None, 16, 16, 64)        36928     \n",
            "_________________________________________________________________\n",
            "batch_normalization_39 (Batc (None, 16, 16, 64)        256       \n",
            "_________________________________________________________________\n",
            "activation_39 (Activation)   (None, 16, 16, 64)        0         \n",
            "_________________________________________________________________\n",
            "max_pooling2d_17 (MaxPooling (None, 8, 8, 64)          0         \n",
            "_________________________________________________________________\n",
            "conv2d_34 (Conv2D)           (None, 8, 8, 128)         73856     \n",
            "_________________________________________________________________\n",
            "batch_normalization_40 (Batc (None, 8, 8, 128)         512       \n",
            "_________________________________________________________________\n",
            "activation_40 (Activation)   (None, 8, 8, 128)         0         \n",
            "_________________________________________________________________\n",
            "conv2d_35 (Conv2D)           (None, 8, 8, 128)         147584    \n",
            "_________________________________________________________________\n",
            "batch_normalization_41 (Batc (None, 8, 8, 128)         512       \n",
            "_________________________________________________________________\n",
            "activation_41 (Activation)   (None, 8, 8, 128)         0         \n",
            "_________________________________________________________________\n",
            "max_pooling2d_18 (MaxPooling (None, 4, 4, 128)         0         \n",
            "_________________________________________________________________\n",
            "flatten_6 (Flatten)          (None, 2048)              0         \n",
            "_________________________________________________________________\n",
            "dense_12 (Dense)             (None, 128)               262272    \n",
            "_________________________________________________________________\n",
            "batch_normalization_42 (Batc (None, 128)               512       \n",
            "_________________________________________________________________\n",
            "activation_42 (Activation)   (None, 128)               0         \n",
            "_________________________________________________________________\n",
            "dropout_6 (Dropout)          (None, 128)               0         \n",
            "_________________________________________________________________\n",
            "dense_13 (Dense)             (None, 10)                1290      \n",
            "=================================================================\n",
            "Total params: 552,874\n",
            "Trainable params: 551,722\n",
            "Non-trainable params: 1,152\n",
            "_________________________________________________________________\n"
          ],
          "name": "stdout"
        }
      ]
    },
    {
      "cell_type": "code",
      "metadata": {
        "id": "yDP5nzo3s9eE"
      },
      "source": [
        "from keras import optimizers\n",
        "from keras.preprocessing.image import ImageDataGenerator\n",
        "\n",
        "# learning_rate = 1E-5 # to be tuned!\n",
        "learning_rate = 0.001 # to be tuned!\n",
        "\n",
        "train_datagen = ImageDataGenerator(\n",
        "    rotation_range=25,\n",
        "    width_shift_range=0.1,\n",
        "    height_shift_range=0.1,\n",
        "    shear_range=0.1,\n",
        "    horizontal_flip=True,\n",
        "    # zca_whitening=True\n",
        ")\n",
        "\n",
        "train_generator = train_datagen.flow(x_tr, y_tr, batch_size=32)\n",
        "\n",
        "model.compile(loss='categorical_crossentropy',\n",
        "              optimizer=optimizers.RMSprop(lr=learning_rate),\n",
        "              metrics=['acc'])"
      ],
      "execution_count": 80,
      "outputs": []
    },
    {
      "cell_type": "code",
      "metadata": {
        "id": "9UR9vLFQs9eF",
        "colab": {
          "base_uri": "https://localhost:8080/"
        },
        "outputId": "4bb476e7-5c5d-4a07-9c4c-64728813e1fc"
      },
      "source": [
        "# history = model.fit(x_tr, y_tr, batch_size=32, epochs=10, validation_data=(x_val, y_val))\n",
        "history = model.fit_generator(train_generator, epochs=25, validation_data=(x_val, y_val))"
      ],
      "execution_count": 81,
      "outputs": [
        {
          "output_type": "stream",
          "text": [
            "/usr/local/lib/python3.7/dist-packages/tensorflow/python/keras/engine/training.py:1844: UserWarning: `Model.fit_generator` is deprecated and will be removed in a future version. Please use `Model.fit`, which supports generators.\n",
            "  warnings.warn('`Model.fit_generator` is deprecated and '\n"
          ],
          "name": "stderr"
        },
        {
          "output_type": "stream",
          "text": [
            "Epoch 1/25\n",
            "1250/1250 [==============================] - 28s 21ms/step - loss: 0.6401 - acc: 0.7929 - val_loss: 0.6671 - val_acc: 0.8240\n",
            "Epoch 2/25\n",
            "1250/1250 [==============================] - 26s 21ms/step - loss: 0.6291 - acc: 0.7965 - val_loss: 0.5893 - val_acc: 0.8268\n",
            "Epoch 3/25\n",
            "1250/1250 [==============================] - 26s 21ms/step - loss: 0.6241 - acc: 0.7995 - val_loss: 0.4970 - val_acc: 0.8372\n",
            "Epoch 4/25\n",
            "1250/1250 [==============================] - 26s 21ms/step - loss: 0.5986 - acc: 0.8056 - val_loss: 0.5455 - val_acc: 0.8289\n",
            "Epoch 5/25\n",
            "1250/1250 [==============================] - 26s 21ms/step - loss: 0.6027 - acc: 0.8095 - val_loss: 0.5435 - val_acc: 0.8237\n",
            "Epoch 6/25\n",
            "1250/1250 [==============================] - 26s 21ms/step - loss: 0.5988 - acc: 0.8036 - val_loss: 0.5535 - val_acc: 0.8238\n",
            "Epoch 7/25\n",
            "1250/1250 [==============================] - 26s 21ms/step - loss: 0.5863 - acc: 0.8082 - val_loss: 0.5570 - val_acc: 0.8272\n",
            "Epoch 8/25\n",
            "1250/1250 [==============================] - 26s 21ms/step - loss: 0.5747 - acc: 0.8170 - val_loss: 0.5684 - val_acc: 0.8323\n",
            "Epoch 9/25\n",
            "1250/1250 [==============================] - 26s 21ms/step - loss: 0.5680 - acc: 0.8164 - val_loss: 0.6191 - val_acc: 0.8103\n",
            "Epoch 10/25\n",
            "1250/1250 [==============================] - 26s 21ms/step - loss: 0.5654 - acc: 0.8145 - val_loss: 0.6154 - val_acc: 0.8354\n",
            "Epoch 11/25\n",
            "1250/1250 [==============================] - 26s 21ms/step - loss: 0.5679 - acc: 0.8184 - val_loss: 0.5428 - val_acc: 0.8473\n",
            "Epoch 12/25\n",
            "1250/1250 [==============================] - 26s 21ms/step - loss: 0.5578 - acc: 0.8188 - val_loss: 0.5270 - val_acc: 0.8372\n",
            "Epoch 13/25\n",
            "1250/1250 [==============================] - 26s 21ms/step - loss: 0.5465 - acc: 0.8237 - val_loss: 0.5066 - val_acc: 0.8405\n",
            "Epoch 14/25\n",
            "1250/1250 [==============================] - 26s 21ms/step - loss: 0.5388 - acc: 0.8284 - val_loss: 0.7037 - val_acc: 0.8178\n",
            "Epoch 15/25\n",
            "1250/1250 [==============================] - 26s 21ms/step - loss: 0.5493 - acc: 0.8223 - val_loss: 0.5236 - val_acc: 0.8441\n",
            "Epoch 16/25\n",
            "1250/1250 [==============================] - 26s 21ms/step - loss: 0.5358 - acc: 0.8274 - val_loss: 0.4627 - val_acc: 0.8555\n",
            "Epoch 17/25\n",
            "1250/1250 [==============================] - 26s 21ms/step - loss: 0.5325 - acc: 0.8285 - val_loss: 0.5369 - val_acc: 0.8370\n",
            "Epoch 18/25\n",
            "1250/1250 [==============================] - 26s 21ms/step - loss: 0.5328 - acc: 0.8291 - val_loss: 0.5800 - val_acc: 0.8400\n",
            "Epoch 19/25\n",
            "1250/1250 [==============================] - 26s 21ms/step - loss: 0.5286 - acc: 0.8296 - val_loss: 0.4372 - val_acc: 0.8627\n",
            "Epoch 20/25\n",
            "1250/1250 [==============================] - 26s 21ms/step - loss: 0.5241 - acc: 0.8284 - val_loss: 0.5971 - val_acc: 0.8320\n",
            "Epoch 21/25\n",
            "1250/1250 [==============================] - 26s 21ms/step - loss: 0.5129 - acc: 0.8314 - val_loss: 0.5056 - val_acc: 0.8442\n",
            "Epoch 22/25\n",
            "1250/1250 [==============================] - 26s 21ms/step - loss: 0.5104 - acc: 0.8360 - val_loss: 0.4908 - val_acc: 0.8432\n",
            "Epoch 23/25\n",
            "1250/1250 [==============================] - 26s 21ms/step - loss: 0.5102 - acc: 0.8355 - val_loss: 0.7310 - val_acc: 0.8194\n",
            "Epoch 24/25\n",
            "1250/1250 [==============================] - 26s 21ms/step - loss: 0.5113 - acc: 0.8379 - val_loss: 0.4621 - val_acc: 0.8553\n",
            "Epoch 25/25\n",
            "1250/1250 [==============================] - 26s 21ms/step - loss: 0.5088 - acc: 0.8360 - val_loss: 0.4313 - val_acc: 0.8680\n"
          ],
          "name": "stdout"
        }
      ]
    },
    {
      "cell_type": "code",
      "metadata": {
        "id": "U97Vxo-ws9eF",
        "colab": {
          "base_uri": "https://localhost:8080/",
          "height": 614
        },
        "outputId": "413081b6-f6e0-4a71-da4e-e43538cfacfd"
      },
      "source": [
        "import matplotlib.pyplot as plt\n",
        "%matplotlib inline\n",
        "\n",
        "acc = history.history['acc']\n",
        "val_acc = history.history['val_acc']\n",
        "\n",
        "epochs = range(len(acc))\n",
        "\n",
        "plt.plot(epochs, acc, 'bo', label='Training acc')\n",
        "plt.plot(epochs, val_acc, 'r', label='Validation acc')\n",
        "plt.xlabel('Epochs')\n",
        "plt.ylabel('Accuracy')\n",
        "plt.legend()\n",
        "plt.show()\n",
        "\n",
        "plt.imshow(x_tr[0,...])\n",
        "plt.title(y_tr[0])"
      ],
      "execution_count": 82,
      "outputs": [
        {
          "output_type": "display_data",
          "data": {
            "image/png": "[encoded data removed]",
            "text/plain": [
              "<Figure size 432x288 with 1 Axes>"
            ]
          },
          "metadata": {
            "tags": [],
            "needs_background": "light"
          }
        },
        {
          "output_type": "stream",
          "text": [
            "/usr/local/lib/python3.7/dist-packages/matplotlib/text.py:1165: FutureWarning: elementwise comparison failed; returning scalar instead, but in the future will perform elementwise comparison\n",
            "  if s != self._text:\n"
          ],
          "name": "stderr"
        },
        {
          "output_type": "execute_result",
          "data": {
            "text/plain": [
              "Text(0.5, 1.0, '[1. 0. 0. 0. 0. 0. 0. 0. 0. 0.]')"
            ]
          },
          "metadata": {
            "tags": []
          },
          "execution_count": 82
        },
        {
          "output_type": "display_data",
          "data": {
            "image/png": "[encoded data removed]",
            "text/plain": [
              "<Figure size 432x288 with 1 Axes>"
            ]
          },
          "metadata": {
            "tags": [],
            "needs_background": "light"
          }
        }
      ]
    },
    {
      "cell_type": "markdown",
      "metadata": {
        "id": "JuGCwOwVs9eG"
      },
      "source": [
        "## 3. Train (again) and evaluate the model\n",
        "\n",
        "- To this end, you have found the \"best\" hyper-parameters. \n",
        "- Now, fix the hyper-parameters and train the network on the entire training set (all the 50K training samples)\n",
        "- Evaluate your model on the test set."
      ]
    },
    {
      "cell_type": "markdown",
      "metadata": {
        "id": "KSwwo7MBs9eG"
      },
      "source": [
        "### 3.1. Train the model on the entire training set\n",
        "\n",
        "Why? Previously, you used 40K samples for training; you wasted 10K samples for the sake of hyper-parameter tuning. Now you already know the hyper-parameters, so why not using all the 50K samples for training?"
      ]
    },
    {
      "cell_type": "code",
      "metadata": {
        "id": "jLV3rDkgs9eH"
      },
      "source": [
        "# <Compile your model again (using the same hyper-parameters)>\n",
        "learning_rate = 0.001 # to be tuned!\n",
        "model.compile(loss='categorical_crossentropy',\n",
        "              optimizer=optimizers.RMSprop(lr=learning_rate),\n",
        "              metrics=['acc'])"
      ],
      "execution_count": 83,
      "outputs": []
    },
    {
      "cell_type": "code",
      "metadata": {
        "id": "8SGMbZY_s9eH",
        "colab": {
          "base_uri": "https://localhost:8080/"
        },
        "outputId": "e4b7e0ac-f853-4ab9-bf16-ad1f6f4b06c7"
      },
      "source": [
        "# <Train your model on the entire training set (50K samples)>\n",
        "# <Use (x_train, y_train_vec) instead of (x_tr, y_tr)>\n",
        "# <Do NOT use the validation_data option (because now you do not have validation data)>\n",
        "test_datagen = ImageDataGenerator(\n",
        "    rotation_range=25,\n",
        "    width_shift_range=0.1,\n",
        "    height_shift_range=0.1,\n",
        "    shear_range=0.1,\n",
        "    horizontal_flip=True,\n",
        "    # zca_whitening=True\n",
        ")\n",
        "test_generator = test_datagen.flow(x_train, y_train_vec, batch_size=32)\n",
        "history = model.fit_generator(test_generator, epochs=25)"
      ],
      "execution_count": 84,
      "outputs": [
        {
          "output_type": "stream",
          "text": [
            "/usr/local/lib/python3.7/dist-packages/tensorflow/python/keras/engine/training.py:1844: UserWarning: `Model.fit_generator` is deprecated and will be removed in a future version. Please use `Model.fit`, which supports generators.\n",
            "  warnings.warn('`Model.fit_generator` is deprecated and '\n"
          ],
          "name": "stderr"
        },
        {
          "output_type": "stream",
          "text": [
            "Epoch 1/25\n",
            "1563/1563 [==============================] - 33s 20ms/step - loss: 0.5266 - acc: 0.8323\n",
            "Epoch 2/25\n",
            "1563/1563 [==============================] - 31s 20ms/step - loss: 0.5161 - acc: 0.8350\n",
            "Epoch 3/25\n",
            "1563/1563 [==============================] - 31s 20ms/step - loss: 0.5149 - acc: 0.8361\n",
            "Epoch 4/25\n",
            "1563/1563 [==============================] - 31s 20ms/step - loss: 0.5128 - acc: 0.8367\n",
            "Epoch 5/25\n",
            "1563/1563 [==============================] - 31s 20ms/step - loss: 0.5076 - acc: 0.8353\n",
            "Epoch 6/25\n",
            "1563/1563 [==============================] - 31s 20ms/step - loss: 0.4936 - acc: 0.8419\n",
            "Epoch 7/25\n",
            "1563/1563 [==============================] - 31s 20ms/step - loss: 0.4943 - acc: 0.8417\n",
            "Epoch 8/25\n",
            "1563/1563 [==============================] - 31s 20ms/step - loss: 0.4921 - acc: 0.8413\n",
            "Epoch 9/25\n",
            "1563/1563 [==============================] - 31s 20ms/step - loss: 0.4866 - acc: 0.8415\n",
            "Epoch 10/25\n",
            "1563/1563 [==============================] - 31s 20ms/step - loss: 0.4848 - acc: 0.8429\n",
            "Epoch 11/25\n",
            "1563/1563 [==============================] - 31s 20ms/step - loss: 0.4765 - acc: 0.8461\n",
            "Epoch 12/25\n",
            "1563/1563 [==============================] - 31s 20ms/step - loss: 0.4775 - acc: 0.8457\n",
            "Epoch 13/25\n",
            "1563/1563 [==============================] - 31s 20ms/step - loss: 0.4770 - acc: 0.8458\n",
            "Epoch 14/25\n",
            "1563/1563 [==============================] - 31s 20ms/step - loss: 0.4694 - acc: 0.8470\n",
            "Epoch 15/25\n",
            "1563/1563 [==============================] - 31s 20ms/step - loss: 0.4629 - acc: 0.8505\n",
            "Epoch 16/25\n",
            "1563/1563 [==============================] - 31s 20ms/step - loss: 0.4613 - acc: 0.8505\n",
            "Epoch 17/25\n",
            "1563/1563 [==============================] - 31s 20ms/step - loss: 0.4728 - acc: 0.8465\n",
            "Epoch 18/25\n",
            "1563/1563 [==============================] - 31s 20ms/step - loss: 0.4707 - acc: 0.8469\n",
            "Epoch 19/25\n",
            "1563/1563 [==============================] - 31s 20ms/step - loss: 0.4484 - acc: 0.8550\n",
            "Epoch 20/25\n",
            "1563/1563 [==============================] - 31s 20ms/step - loss: 0.4570 - acc: 0.8529\n",
            "Epoch 21/25\n",
            "1563/1563 [==============================] - 31s 20ms/step - loss: 0.4510 - acc: 0.8529\n",
            "Epoch 22/25\n",
            "1563/1563 [==============================] - 31s 20ms/step - loss: 0.4513 - acc: 0.8566\n",
            "Epoch 23/25\n",
            "1563/1563 [==============================] - 31s 20ms/step - loss: 0.4452 - acc: 0.8540\n",
            "Epoch 24/25\n",
            "1563/1563 [==============================] - 31s 20ms/step - loss: 0.4494 - acc: 0.8558\n",
            "Epoch 25/25\n",
            "1563/1563 [==============================] - 31s 20ms/step - loss: 0.4461 - acc: 0.8561\n"
          ],
          "name": "stdout"
        }
      ]
    },
    {
      "cell_type": "markdown",
      "metadata": {
        "id": "tYGlCnfEs9eH"
      },
      "source": [
        "### 3.2. Evaluate the model on the test set\n",
        "\n",
        "Do NOT used the test set until now. Make sure that your model parameters and hyper-parameters are independent of the test set."
      ]
    },
    {
      "cell_type": "code",
      "metadata": {
        "id": "Fyp5aoBys9eH",
        "colab": {
          "base_uri": "https://localhost:8080/"
        },
        "outputId": "e5413a9a-bf5d-4141-def8-4755471af3dd"
      },
      "source": [
        "loss_and_acc = model.evaluate(x_test, y_test_vec)\n",
        "print('loss = ' + str(loss_and_acc[0]))\n",
        "print('accuracy = ' + str(loss_and_acc[1]))"
      ],
      "execution_count": 85,
      "outputs": [
        {
          "output_type": "stream",
          "text": [
            "313/313 [==============================] - 1s 4ms/step - loss: 0.5402 - acc: 0.8489\n",
            "loss = 0.5401830077171326\n",
            "accuracy = 0.8489000201225281\n"
          ],
          "name": "stdout"
        }
      ]
    },
    {
      "cell_type": "code",
      "metadata": {
        "id": "outbGaC4s9eI"
      },
      "source": [
        ""
      ],
      "execution_count": null,
      "outputs": []
    }
  ]
}