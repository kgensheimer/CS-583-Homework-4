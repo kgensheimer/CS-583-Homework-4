{
  "nbformat": 4,
  "nbformat_minor": 0,
  "metadata": {
    "kernelspec": {
      "display_name": "Python 3",
      "language": "python",
      "name": "python3"
    },
    "language_info": {
      "codemirror_mode": {
        "name": "ipython",
        "version": 3
      },
      "file_extension": ".py",
      "mimetype": "text/x-python",
      "name": "python",
      "nbconvert_exporter": "python",
      "pygments_lexer": "ipython3",
      "version": "3.8.5"
    },
    "colab": {
      "name": "HM4.ipynb",
      "provenance": [],
      "collapsed_sections": []
    },
    "accelerator": "GPU"
  },
  "cells": [
    {
      "cell_type": "markdown",
      "metadata": {
        "id": "c1JP9N-1s9d-"
      },
      "source": [
        "# Home 4: Build a CNN for image recognition.\n",
        "\n",
        "### Name: Kyle Gensheimer\n"
      ]
    },
    {
      "cell_type": "markdown",
      "metadata": {
        "id": "24GiupBTs9eA"
      },
      "source": [
        "## 0. You will do the following:\n",
        "\n",
        "1. Read, complete, and run the code.\n",
        "\n",
        "2. **Make substantial improvements** to maximize the accurcy.\n",
        "    \n",
        "3. Convert the .IPYNB file to .HTML file.\n",
        "\n",
        "    * The HTML file must contain the code and the output after execution.\n",
        "    \n",
        "    * Missing **the output after execution** will not be graded.\n",
        "    \n",
        "4. Upload this .HTML file to your Google Drive, Dropbox, or Github repo. (If you submit the file to Google Drive or Dropbox, you must make the file \"open-access\". The delay caused by \"deny of access\" may result in late penalty.)\n",
        "\n",
        "4. Submit the link to this .HTML file to Canvas.\n",
        "\n",
        "    * Example: https://github.com/wangshusen/CS583-2020S/blob/master/homework/HM4/HM4.html\n",
        "\n",
        "\n",
        "## Requirements:\n",
        "\n",
        "1. You can use whatever CNN architecture, including VGG, Inception, and ResNet. However, you must build the networks layer by layer. You must NOT import the archetectures from ```keras.applications```.\n",
        "\n",
        "2. Make sure ```BatchNormalization``` is between a ```Conv```/```Dense``` layer and an ```activation``` layer.\n",
        "\n",
        "3. If you want to regularize a ```Conv```/```Dense``` layer, you should place a ```Dropout``` layer **before** the ```Conv```/```Dense``` layer.\n",
        "\n",
        "4. An accuracy above 70% is considered reasonable. An accuracy above 80% is considered good. Without data augmentation, achieving 80% accuracy is difficult.\n",
        "\n",
        "\n",
        "## Google Colab\n",
        "\n",
        "- If you do not have GPU, the training of a CNN can be slow. Google Colab is a good option.\n",
        "\n",
        "- Keep in mind that you must download it as an IPYNB file and then use IPython Notebook to convert it to HTML.\n",
        "\n",
        "- Also keep in mind that the IPYNB and HTML files must contain the outputs. (Otherwise, the instructor will not be able to know the correctness and performance.) Do the followings to keep the outputs.\n",
        "\n",
        "- In Colab, go to ```Runtime``` --> ```Change runtime type``` --> Do NOT check ```Omit code cell output when saving this notebook```. In this way, the downloaded IPYNB file contains the outputs."
      ]
    },
    {
      "cell_type": "markdown",
      "metadata": {
        "id": "F7OLB25gs9eB"
      },
      "source": [
        "## 1. Data preparation"
      ]
    },
    {
      "cell_type": "markdown",
      "metadata": {
        "id": "7SRDTWDds9eB"
      },
      "source": [
        "### 1.1. Load data\n"
      ]
    },
    {
      "cell_type": "code",
      "metadata": {
        "colab": {
          "base_uri": "https://localhost:8080/"
        },
        "id": "Fm8ks6O5s9eC",
        "outputId": "e7556492-6b15-4dd6-a591-49406edc8e0f"
      },
      "source": [
        "from keras.datasets import cifar10\n",
        "import numpy\n",
        "\n",
        "(x_train, y_train), (x_test, y_test) = cifar10.load_data()\n",
        "\n",
        "# Scale pixels values to 0-1\n",
        "x_train = x_train.astype('float32') \n",
        "x_test = x_test.astype('float32') \n",
        "x_train = x_train / 255\n",
        "x_test = x_test / 255\n",
        "\n",
        "print('shape of x_train: ' + str(x_train.shape))\n",
        "print('shape of y_train: ' + str(y_train.shape))\n",
        "print('shape of x_test: ' + str(x_test.shape))\n",
        "print('shape of y_test: ' + str(y_test.shape))\n",
        "print('number of classes: ' + str(numpy.max(y_train) - numpy.min(y_train) + 1))"
      ],
      "execution_count": 86,
      "outputs": [
        {
          "output_type": "stream",
          "text": [
            "shape of x_train: (50000, 32, 32, 3)\n",
            "shape of y_train: (50000, 1)\n",
            "shape of x_test: (10000, 32, 32, 3)\n",
            "shape of y_test: (10000, 1)\n",
            "number of classes: 10\n"
          ],
          "name": "stdout"
        }
      ]
    },
    {
      "cell_type": "markdown",
      "metadata": {
        "id": "2cLi4o5es9eC"
      },
      "source": [
        "### 1.2. One-hot encode the labels\n",
        "\n",
        "In the input, a label is a scalar in $\\{0, 1, \\cdots , 9\\}$. One-hot encode transform such a scalar to a $10$-dim vector. E.g., a scalar ```y_train[j]=3``` is transformed to the vector ```y_train_vec[j]=[0, 0, 0, 1, 0, 0, 0, 0, 0, 0]```.\n",
        "\n",
        "1. Define a function ```to_one_hot``` that transforms an $n\\times 1$ array to a $n\\times 10$ matrix.\n",
        "\n",
        "2. Apply the function to ```y_train``` and ```y_test```."
      ]
    },
    {
      "cell_type": "code",
      "metadata": {
        "colab": {
          "base_uri": "https://localhost:8080/"
        },
        "id": "9EUndtTgs9eC",
        "outputId": "2cfe6bca-d7dd-4bb5-b7fa-7cc4ddd15a1f"
      },
      "source": [
        "def to_one_hot(y, num_class=10):\n",
        "    results = numpy.zeros((len(y), num_class))\n",
        "    for i, label in enumerate(y):\n",
        "      results[i, label] = 1\n",
        "    return results\n",
        "\n",
        "y_train_vec = to_one_hot(y_train)\n",
        "y_test_vec = to_one_hot(y_test)\n",
        "\n",
        "print('Shape of y_train_vec: ' + str(y_train_vec.shape))\n",
        "print('Shape of y_test_vec: ' + str(y_test_vec.shape))\n",
        "\n",
        "print(y_train[0])\n",
        "print(y_train_vec[0])\n",
        "print(x_test[0][0][0])"
      ],
      "execution_count": 87,
      "outputs": [
        {
          "output_type": "stream",
          "text": [
            "Shape of y_train_vec: (50000, 10)\n",
            "Shape of y_test_vec: (10000, 10)\n",
            "[6]\n",
            "[0. 0. 0. 0. 0. 0. 1. 0. 0. 0.]\n",
            "[0.61960787 0.4392157  0.19215687]\n"
          ],
          "name": "stdout"
        }
      ]
    },
    {
      "cell_type": "markdown",
      "metadata": {
        "id": "-NO76M0vs9eD"
      },
      "source": [
        "#### Remark: the outputs should be\n",
        "* Shape of y_train_vec: (50000, 10)\n",
        "* Shape of y_test_vec: (10000, 10)\n",
        "* [6]\n",
        "* [0. 0. 0. 0. 0. 0. 1. 0. 0. 0.]"
      ]
    },
    {
      "cell_type": "markdown",
      "metadata": {
        "id": "Ni01bAUds9eD"
      },
      "source": [
        "### 1.3. Randomly partition the training set to training and validation sets\n",
        "\n",
        "Randomly partition the 50K training samples to 2 sets:\n",
        "* a training set containing 40K samples\n",
        "* a validation set containing 10K samples\n"
      ]
    },
    {
      "cell_type": "code",
      "metadata": {
        "id": "1gjoqaoKs9eD",
        "colab": {
          "base_uri": "https://localhost:8080/"
        },
        "outputId": "64fb16b2-fd57-4621-fe01-4273d4a82b7c"
      },
      "source": [
        "rand_indices = numpy.random.permutation(50000)\n",
        "train_indices = rand_indices[0:40000]\n",
        "valid_indices = rand_indices[40000:50000]\n",
        "\n",
        "x_val = x_train[valid_indices, :]\n",
        "y_val = y_train_vec[valid_indices, :]\n",
        "\n",
        "x_tr = x_train[train_indices, :]\n",
        "y_tr = y_train_vec[train_indices, :]\n",
        "\n",
        "print('Shape of x_tr: ' + str(x_tr.shape))\n",
        "print('Shape of y_tr: ' + str(y_tr.shape))\n",
        "print('Shape of x_val: ' + str(x_val.shape))\n",
        "print('Shape of y_val: ' + str(y_val.shape))"
      ],
      "execution_count": 88,
      "outputs": [
        {
          "output_type": "stream",
          "text": [
            "Shape of x_tr: (40000, 32, 32, 3)\n",
            "Shape of y_tr: (40000, 10)\n",
            "Shape of x_val: (10000, 32, 32, 3)\n",
            "Shape of y_val: (10000, 10)\n"
          ],
          "name": "stdout"
        }
      ]
    },
    {
      "cell_type": "markdown",
      "metadata": {
        "id": "BEQbRiz4s9eE"
      },
      "source": [
        "## 2. Build a CNN and tune its hyper-parameters\n",
        "\n",
        "1. Build a convolutional neural network model\n",
        "2. Use the validation data to tune the hyper-parameters (e.g., network structure, and optimization algorithm)\n",
        "    * Do NOT use test data for hyper-parameter tuning!!!\n",
        "3. Try to achieve a validation accuracy as high as possible."
      ]
    },
    {
      "cell_type": "markdown",
      "metadata": {
        "id": "i_MMUGtAs9eE"
      },
      "source": [
        "### Remark: \n",
        "\n",
        "The following CNN is just an example. You are supposed to make **substantial improvements** such as:\n",
        "* Add more layers.\n",
        "* Use regularizations, e.g., dropout.\n",
        "* Use batch normalization."
      ]
    },
    {
      "cell_type": "code",
      "metadata": {
        "id": "p2Pf7hQ8s9eE",
        "colab": {
          "base_uri": "https://localhost:8080/"
        },
        "outputId": "3b67b01e-6c21-4127-c5bd-fbd10c0356d9"
      },
      "source": [
        "from keras.layers import (\n",
        "    Conv2D,\n",
        "    MaxPooling2D,\n",
        "    Flatten,\n",
        "    Dense,\n",
        "    Dropout,\n",
        "    BatchNormalization,\n",
        "    Activation\n",
        "  )\n",
        "\n",
        "from keras.models import Sequential\n",
        "\n",
        "# data_format defaults to channels_last\n",
        "\n",
        "model = Sequential()\n",
        "model.add(Conv2D(32, (3, 3), padding='same', input_shape=(32, 32, 3)))\n",
        "model.add(BatchNormalization())\n",
        "model.add(Activation('relu'))\n",
        "model.add(Conv2D(32, (3, 3), padding='same'))\n",
        "model.add(BatchNormalization())\n",
        "model.add(Activation('relu'))\n",
        "model.add(MaxPooling2D((2, 2)))\n",
        "\n",
        "# model.add(Conv2D(32, (3, 3), padding='same'))\n",
        "# model.add(BatchNormalization())\n",
        "# model.add(Activation('relu'))\n",
        "# model.add(Conv2D(32, (3, 3), padding='same'))\n",
        "# model.add(BatchNormalization())\n",
        "# model.add(Activation('relu'))\n",
        "# model.add(MaxPooling2D((2, 2)))\n",
        "\n",
        "model.add(Conv2D(64, (3, 3), padding='same'))\n",
        "model.add(BatchNormalization())\n",
        "model.add(Activation('relu'))\n",
        "model.add(Conv2D(64, (3, 3), padding='same'))\n",
        "model.add(BatchNormalization())\n",
        "model.add(Activation('relu'))\n",
        "model.add(MaxPooling2D((2, 2)))\n",
        "\n",
        "model.add(Conv2D(128, (3, 3), padding='same'))\n",
        "model.add(BatchNormalization())\n",
        "model.add(Activation('relu'))\n",
        "model.add(Conv2D(128, (3, 3), padding='same'))\n",
        "model.add(BatchNormalization())\n",
        "model.add(Activation('relu'))\n",
        "model.add(MaxPooling2D((2, 2)))\n",
        "\n",
        "model.add(Flatten())\n",
        "model.add(Dense(128))\n",
        "model.add(Dropout(0.5))\n",
        "model.add(BatchNormalization())\n",
        "model.add(Activation('relu'))\n",
        "model.add(Dense(10, activation='softmax'))\n",
        "\n",
        "model.summary()"
      ],
      "execution_count": 70,
      "outputs": [
        {
          "output_type": "stream",
          "text": [
            "Model: \"sequential_6\"\n",
            "_________________________________________________________________\n",
            "Layer (type)                 Output Shape              Param #   \n",
            "=================================================================\n",
            "conv2d_30 (Conv2D)           (None, 32, 32, 32)        896       \n",
            "_________________________________________________________________\n",
            "batch_normalization_36 (Batc (None, 32, 32, 32)        128       \n",
            "_________________________________________________________________\n",
            "activation_36 (Activation)   (None, 32, 32, 32)        0         \n",
            "_________________________________________________________________\n",
            "conv2d_31 (Conv2D)           (None, 32, 32, 32)        9248      \n",
            "_________________________________________________________________\n",
            "batch_normalization_37 (Batc (None, 32, 32, 32)        128       \n",
            "_________________________________________________________________\n",
            "activation_37 (Activation)   (None, 32, 32, 32)        0         \n",
            "_________________________________________________________________\n",
            "max_pooling2d_16 (MaxPooling (None, 16, 16, 32)        0         \n",
            "_________________________________________________________________\n",
            "conv2d_32 (Conv2D)           (None, 16, 16, 64)        18496     \n",
            "_________________________________________________________________\n",
            "batch_normalization_38 (Batc (None, 16, 16, 64)        256       \n",
            "_________________________________________________________________\n",
            "activation_38 (Activation)   (None, 16, 16, 64)        0         \n",
            "_________________________________________________________________\n",
            "conv2d_33 (Conv2D)           (None, 16, 16, 64)        36928     \n",
            "_________________________________________________________________\n",
            "batch_normalization_39 (Batc (None, 16, 16, 64)        256       \n",
            "_________________________________________________________________\n",
            "activation_39 (Activation)   (None, 16, 16, 64)        0         \n",
            "_________________________________________________________________\n",
            "max_pooling2d_17 (MaxPooling (None, 8, 8, 64)          0         \n",
            "_________________________________________________________________\n",
            "conv2d_34 (Conv2D)           (None, 8, 8, 128)         73856     \n",
            "_________________________________________________________________\n",
            "batch_normalization_40 (Batc (None, 8, 8, 128)         512       \n",
            "_________________________________________________________________\n",
            "activation_40 (Activation)   (None, 8, 8, 128)         0         \n",
            "_________________________________________________________________\n",
            "conv2d_35 (Conv2D)           (None, 8, 8, 128)         147584    \n",
            "_________________________________________________________________\n",
            "batch_normalization_41 (Batc (None, 8, 8, 128)         512       \n",
            "_________________________________________________________________\n",
            "activation_41 (Activation)   (None, 8, 8, 128)         0         \n",
            "_________________________________________________________________\n",
            "max_pooling2d_18 (MaxPooling (None, 4, 4, 128)         0         \n",
            "_________________________________________________________________\n",
            "flatten_6 (Flatten)          (None, 2048)              0         \n",
            "_________________________________________________________________\n",
            "dense_12 (Dense)             (None, 128)               262272    \n",
            "_________________________________________________________________\n",
            "batch_normalization_42 (Batc (None, 128)               512       \n",
            "_________________________________________________________________\n",
            "activation_42 (Activation)   (None, 128)               0         \n",
            "_________________________________________________________________\n",
            "dropout_6 (Dropout)          (None, 128)               0         \n",
            "_________________________________________________________________\n",
            "dense_13 (Dense)             (None, 10)                1290      \n",
            "=================================================================\n",
            "Total params: 552,874\n",
            "Trainable params: 551,722\n",
            "Non-trainable params: 1,152\n",
            "_________________________________________________________________\n"
          ],
          "name": "stdout"
        }
      ]
    },
    {
      "cell_type": "code",
      "metadata": {
        "id": "yDP5nzo3s9eE"
      },
      "source": [
        "from keras import optimizers\n",
        "from keras.preprocessing.image import ImageDataGenerator\n",
        "\n",
        "# learning_rate = 1E-5 # to be tuned!\n",
        "learning_rate = 0.001 # to be tuned!\n",
        "\n",
        "train_datagen = ImageDataGenerator(\n",
        "    rotation_range=25,\n",
        "    width_shift_range=0.1,\n",
        "    height_shift_range=0.1,\n",
        "    shear_range=0.1,\n",
        "    horizontal_flip=True,\n",
        "    # zca_whitening=True\n",
        ")\n",
        "\n",
        "train_generator = train_datagen.flow(x_tr, y_tr, batch_size=32)\n",
        "\n",
        "model.compile(loss='categorical_crossentropy',\n",
        "              optimizer=optimizers.RMSprop(lr=learning_rate),\n",
        "              metrics=['acc'])"
      ],
      "execution_count": 89,
      "outputs": []
    },
    {
      "cell_type": "code",
      "metadata": {
        "id": "9UR9vLFQs9eF",
        "colab": {
          "base_uri": "https://localhost:8080/"
        },
        "outputId": "badefa2f-b215-4877-e5ed-31ac9a3e976f"
      },
      "source": [
        "# history = model.fit(x_tr, y_tr, batch_size=32, epochs=10, validation_data=(x_val, y_val))\n",
        "history = model.fit_generator(train_generator, epochs=25, validation_data=(x_val, y_val))"
      ],
      "execution_count": 90,
      "outputs": [
        {
          "output_type": "stream",
          "text": [
            "/usr/local/lib/python3.7/dist-packages/tensorflow/python/keras/engine/training.py:1844: UserWarning: `Model.fit_generator` is deprecated and will be removed in a future version. Please use `Model.fit`, which supports generators.\n",
            "  warnings.warn('`Model.fit_generator` is deprecated and '\n"
          ],
          "name": "stderr"
        },
        {
          "output_type": "stream",
          "text": [
            "Epoch 1/25\n",
            "1250/1250 [==============================] - 28s 21ms/step - loss: 0.4451 - acc: 0.8550 - val_loss: 0.4133 - val_acc: 0.8795\n",
            "Epoch 2/25\n",
            "1250/1250 [==============================] - 26s 21ms/step - loss: 0.4487 - acc: 0.8538 - val_loss: 0.3888 - val_acc: 0.8723\n",
            "Epoch 3/25\n",
            "1250/1250 [==============================] - 26s 21ms/step - loss: 0.4352 - acc: 0.8604 - val_loss: 0.3757 - val_acc: 0.8846\n",
            "Epoch 4/25\n",
            "1250/1250 [==============================] - 26s 21ms/step - loss: 0.4425 - acc: 0.8610 - val_loss: 0.3327 - val_acc: 0.8959\n",
            "Epoch 5/25\n",
            "1250/1250 [==============================] - 26s 21ms/step - loss: 0.4335 - acc: 0.8595 - val_loss: 0.3329 - val_acc: 0.9015\n",
            "Epoch 6/25\n",
            "1250/1250 [==============================] - 26s 21ms/step - loss: 0.4376 - acc: 0.8591 - val_loss: 0.3593 - val_acc: 0.8851\n",
            "Epoch 7/25\n",
            "1250/1250 [==============================] - 26s 21ms/step - loss: 0.4227 - acc: 0.8599 - val_loss: 0.3222 - val_acc: 0.8960\n",
            "Epoch 8/25\n",
            "1250/1250 [==============================] - 26s 21ms/step - loss: 0.4242 - acc: 0.8598 - val_loss: 0.3635 - val_acc: 0.8844\n",
            "Epoch 9/25\n",
            "1250/1250 [==============================] - 26s 21ms/step - loss: 0.4269 - acc: 0.8619 - val_loss: 0.3459 - val_acc: 0.8974\n",
            "Epoch 10/25\n",
            "1250/1250 [==============================] - 26s 21ms/step - loss: 0.4202 - acc: 0.8654 - val_loss: 0.3256 - val_acc: 0.8957\n",
            "Epoch 11/25\n",
            "1250/1250 [==============================] - 26s 21ms/step - loss: 0.4268 - acc: 0.8625 - val_loss: 0.3332 - val_acc: 0.8936\n",
            "Epoch 12/25\n",
            "1250/1250 [==============================] - 26s 21ms/step - loss: 0.4135 - acc: 0.8671 - val_loss: 0.3545 - val_acc: 0.8950\n",
            "Epoch 13/25\n",
            "1250/1250 [==============================] - 26s 21ms/step - loss: 0.4157 - acc: 0.8681 - val_loss: 0.4652 - val_acc: 0.8598\n",
            "Epoch 14/25\n",
            "1250/1250 [==============================] - 26s 21ms/step - loss: 0.4119 - acc: 0.8685 - val_loss: 0.4034 - val_acc: 0.8737\n",
            "Epoch 15/25\n",
            "1250/1250 [==============================] - 26s 21ms/step - loss: 0.4161 - acc: 0.8655 - val_loss: 0.3853 - val_acc: 0.8801\n",
            "Epoch 16/25\n",
            "1250/1250 [==============================] - 27s 21ms/step - loss: 0.4241 - acc: 0.8653 - val_loss: 0.3522 - val_acc: 0.8898\n",
            "Epoch 17/25\n",
            "1250/1250 [==============================] - 26s 21ms/step - loss: 0.4051 - acc: 0.8690 - val_loss: 0.3576 - val_acc: 0.8882\n",
            "Epoch 18/25\n",
            "1250/1250 [==============================] - 26s 21ms/step - loss: 0.4124 - acc: 0.8689 - val_loss: 0.4342 - val_acc: 0.8715\n",
            "Epoch 19/25\n",
            "1250/1250 [==============================] - 26s 21ms/step - loss: 0.4249 - acc: 0.8625 - val_loss: 0.3901 - val_acc: 0.8819\n",
            "Epoch 20/25\n",
            "1250/1250 [==============================] - 26s 21ms/step - loss: 0.4254 - acc: 0.8649 - val_loss: 0.3820 - val_acc: 0.8893\n",
            "Epoch 21/25\n",
            "1250/1250 [==============================] - 26s 21ms/step - loss: 0.4013 - acc: 0.8708 - val_loss: 0.4666 - val_acc: 0.8767\n",
            "Epoch 22/25\n",
            "1250/1250 [==============================] - 26s 21ms/step - loss: 0.3988 - acc: 0.8706 - val_loss: 0.3746 - val_acc: 0.8828\n",
            "Epoch 23/25\n",
            "1250/1250 [==============================] - 26s 21ms/step - loss: 0.4082 - acc: 0.8712 - val_loss: 0.3777 - val_acc: 0.8957\n",
            "Epoch 24/25\n",
            "1250/1250 [==============================] - 26s 21ms/step - loss: 0.4178 - acc: 0.8695 - val_loss: 0.3809 - val_acc: 0.8848\n",
            "Epoch 25/25\n",
            "1250/1250 [==============================] - 26s 21ms/step - loss: 0.4090 - acc: 0.8688 - val_loss: 0.3962 - val_acc: 0.8844\n"
          ],
          "name": "stdout"
        }
      ]
    },
    {
      "cell_type": "code",
      "metadata": {
        "id": "U97Vxo-ws9eF",
        "colab": {
          "base_uri": "https://localhost:8080/",
          "height": 614
        },
        "outputId": "22c55fb2-b67e-4e1c-81a5-34f948975387"
      },
      "source": [
        "import matplotlib.pyplot as plt\n",
        "%matplotlib inline\n",
        "\n",
        "acc = history.history['acc']\n",
        "val_acc = history.history['val_acc']\n",
        "\n",
        "epochs = range(len(acc))\n",
        "\n",
        "plt.plot(epochs, acc, 'bo', label='Training acc')\n",
        "plt.plot(epochs, val_acc, 'r', label='Validation acc')\n",
        "plt.xlabel('Epochs')\n",
        "plt.ylabel('Accuracy')\n",
        "plt.legend()\n",
        "plt.show()\n",
        "\n",
        "plt.imshow(x_tr[0,...])\n",
        "plt.title(y_tr[0])"
      ],
      "execution_count": 92,
      "outputs": [
        {
          "output_type": "display_data",
          "data": {
            "image/png": "[encoded data removed]",
            "text/plain": [
              "<Figure size 432x288 with 1 Axes>"
            ]
          },
          "metadata": {
            "tags": [],
            "needs_background": "light"
          }
        },
        {
          "output_type": "stream",
          "text": [
            "/usr/local/lib/python3.7/dist-packages/matplotlib/text.py:1165: FutureWarning: elementwise comparison failed; returning scalar instead, but in the future will perform elementwise comparison\n",
            "  if s != self._text:\n"
          ],
          "name": "stderr"
        },
        {
          "output_type": "execute_result",
          "data": {
            "text/plain": [
              "Text(0.5, 1.0, '[0. 0. 0. 0. 0. 0. 0. 0. 1. 0.]')"
            ]
          },
          "metadata": {
            "tags": []
          },
          "execution_count": 92
        },
        {
          "output_type": "display_data",
          "data": {
            "image/png": "[encoded data removed]",
            "text/plain": [
              "<Figure size 432x288 with 1 Axes>"
            ]
          },
          "metadata": {
            "tags": [],
            "needs_background": "light"
          }
        }
      ]
    },
    {
      "cell_type": "markdown",
      "metadata": {
        "id": "JuGCwOwVs9eG"
      },
      "source": [
        "## 3. Train (again) and evaluate the model\n",
        "\n",
        "- To this end, you have found the \"best\" hyper-parameters. \n",
        "- Now, fix the hyper-parameters and train the network on the entire training set (all the 50K training samples)\n",
        "- Evaluate your model on the test set."
      ]
    },
    {
      "cell_type": "markdown",
      "metadata": {
        "id": "KSwwo7MBs9eG"
      },
      "source": [
        "### 3.1. Train the model on the entire training set\n",
        "\n",
        "Why? Previously, you used 40K samples for training; you wasted 10K samples for the sake of hyper-parameter tuning. Now you already know the hyper-parameters, so why not using all the 50K samples for training?"
      ]
    },
    {
      "cell_type": "code",
      "metadata": {
        "id": "jLV3rDkgs9eH"
      },
      "source": [
        "# <Compile your model again (using the same hyper-parameters)>\n",
        "learning_rate = 0.001 # to be tuned!\n",
        "model.compile(loss='categorical_crossentropy',\n",
        "              optimizer=optimizers.RMSprop(lr=learning_rate),\n",
        "              metrics=['acc'])"
      ],
      "execution_count": 93,
      "outputs": []
    },
    {
      "cell_type": "code",
      "metadata": {
        "id": "8SGMbZY_s9eH",
        "colab": {
          "base_uri": "https://localhost:8080/"
        },
        "outputId": "9eeeedb2-3fad-4f37-ca70-91750976ea72"
      },
      "source": [
        "# <Train your model on the entire training set (50K samples)>\n",
        "# <Use (x_train, y_train_vec) instead of (x_tr, y_tr)>\n",
        "# <Do NOT use the validation_data option (because now you do not have validation data)>\n",
        "test_datagen = ImageDataGenerator(\n",
        "    rotation_range=25,\n",
        "    width_shift_range=0.1,\n",
        "    height_shift_range=0.1,\n",
        "    shear_range=0.1,\n",
        "    horizontal_flip=True,\n",
        "    # zca_whitening=True\n",
        ")\n",
        "test_generator = test_datagen.flow(x_train, y_train_vec, batch_size=32)\n",
        "history = model.fit_generator(test_generator, epochs=25)"
      ],
      "execution_count": 94,
      "outputs": [
        {
          "output_type": "stream",
          "text": [
            "/usr/local/lib/python3.7/dist-packages/tensorflow/python/keras/engine/training.py:1844: UserWarning: `Model.fit_generator` is deprecated and will be removed in a future version. Please use `Model.fit`, which supports generators.\n",
            "  warnings.warn('`Model.fit_generator` is deprecated and '\n"
          ],
          "name": "stderr"
        },
        {
          "output_type": "stream",
          "text": [
            "Epoch 1/25\n",
            "1563/1563 [==============================] - 33s 20ms/step - loss: 0.4307 - acc: 0.8627\n",
            "Epoch 2/25\n",
            "1563/1563 [==============================] - 32s 20ms/step - loss: 0.4185 - acc: 0.8658\n",
            "Epoch 3/25\n",
            "1563/1563 [==============================] - 31s 20ms/step - loss: 0.4039 - acc: 0.8713\n",
            "Epoch 4/25\n",
            "1563/1563 [==============================] - 32s 20ms/step - loss: 0.4121 - acc: 0.8707\n",
            "Epoch 5/25\n",
            "1563/1563 [==============================] - 32s 20ms/step - loss: 0.4070 - acc: 0.8672\n",
            "Epoch 6/25\n",
            "1563/1563 [==============================] - 32s 20ms/step - loss: 0.4214 - acc: 0.8664\n",
            "Epoch 7/25\n",
            "1563/1563 [==============================] - 32s 20ms/step - loss: 0.4159 - acc: 0.8657\n",
            "Epoch 8/25\n",
            "1563/1563 [==============================] - 32s 20ms/step - loss: 0.4030 - acc: 0.8732\n",
            "Epoch 9/25\n",
            "1563/1563 [==============================] - 32s 20ms/step - loss: 0.4091 - acc: 0.8671\n",
            "Epoch 10/25\n",
            "1563/1563 [==============================] - 32s 20ms/step - loss: 0.4126 - acc: 0.8685\n",
            "Epoch 11/25\n",
            "1563/1563 [==============================] - 31s 20ms/step - loss: 0.4082 - acc: 0.8678\n",
            "Epoch 12/25\n",
            "1563/1563 [==============================] - 31s 20ms/step - loss: 0.4063 - acc: 0.8714\n",
            "Epoch 13/25\n",
            "1563/1563 [==============================] - 31s 20ms/step - loss: 0.4008 - acc: 0.8731\n",
            "Epoch 14/25\n",
            "1563/1563 [==============================] - 31s 20ms/step - loss: 0.3987 - acc: 0.8728\n",
            "Epoch 15/25\n",
            "1563/1563 [==============================] - 32s 20ms/step - loss: 0.3991 - acc: 0.8740\n",
            "Epoch 16/25\n",
            "1563/1563 [==============================] - 32s 20ms/step - loss: 0.3976 - acc: 0.8711\n",
            "Epoch 17/25\n",
            "1563/1563 [==============================] - 31s 20ms/step - loss: 0.4010 - acc: 0.8719\n",
            "Epoch 18/25\n",
            "1563/1563 [==============================] - 32s 20ms/step - loss: 0.3979 - acc: 0.8714\n",
            "Epoch 19/25\n",
            "1563/1563 [==============================] - 32s 20ms/step - loss: 0.3919 - acc: 0.8757\n",
            "Epoch 20/25\n",
            "1563/1563 [==============================] - 32s 21ms/step - loss: 0.3903 - acc: 0.8743\n",
            "Epoch 21/25\n",
            "1563/1563 [==============================] - 32s 20ms/step - loss: 0.3974 - acc: 0.8751\n",
            "Epoch 22/25\n",
            "1563/1563 [==============================] - 32s 20ms/step - loss: 0.3902 - acc: 0.8742\n",
            "Epoch 23/25\n",
            "1563/1563 [==============================] - 32s 20ms/step - loss: 0.3817 - acc: 0.8777\n",
            "Epoch 24/25\n",
            "1563/1563 [==============================] - 31s 20ms/step - loss: 0.3840 - acc: 0.8782\n",
            "Epoch 25/25\n",
            "1563/1563 [==============================] - 32s 20ms/step - loss: 0.3920 - acc: 0.8751\n"
          ],
          "name": "stdout"
        }
      ]
    },
    {
      "cell_type": "markdown",
      "metadata": {
        "id": "tYGlCnfEs9eH"
      },
      "source": [
        "### 3.2. Evaluate the model on the test set\n",
        "\n",
        "Do NOT used the test set until now. Make sure that your model parameters and hyper-parameters are independent of the test set."
      ]
    },
    {
      "cell_type": "code",
      "metadata": {
        "id": "Fyp5aoBys9eH",
        "colab": {
          "base_uri": "https://localhost:8080/"
        },
        "outputId": "f064f7da-759c-46d5-b34f-660f144e39a4"
      },
      "source": [
        "loss_and_acc = model.evaluate(x_test, y_test_vec)\n",
        "print('loss = ' + str(loss_and_acc[0]))\n",
        "print('accuracy = ' + str(loss_and_acc[1]))"
      ],
      "execution_count": 95,
      "outputs": [
        {
          "output_type": "stream",
          "text": [
            "313/313 [==============================] - 1s 4ms/step - loss: 0.5322 - acc: 0.8636\n",
            "loss = 0.5321834087371826\n",
            "accuracy = 0.8636000156402588\n"
          ],
          "name": "stdout"
        }
      ]
    },
    {
      "cell_type": "code",
      "metadata": {
        "id": "outbGaC4s9eI"
      },
      "source": [
        ""
      ],
      "execution_count": null,
      "outputs": []
    }
  ]
}